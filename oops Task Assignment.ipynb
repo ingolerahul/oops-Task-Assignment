{
 "cells": [
  {
   "cell_type": "raw",
   "id": "f9234a11-be20-4fd3-b373-33700ccb7af3",
   "metadata": {},
   "source": [
    "Q1, Create a vehicle class with an init method having instance variables as name_of_vehicle, max_speed\n",
    "and average_of_vehicle.\n"
   ]
  },
  {
   "cell_type": "code",
   "execution_count": 31,
   "id": "234c76df-49cb-42a1-93c0-e9bd1212cec7",
   "metadata": {},
   "outputs": [
    {
     "name": "stdout",
     "output_type": "stream",
     "text": [
      "Maruti: Max Speed - 200 km/h, Average of vehicle - 10 km/l\n",
      "Honda: Max Speed - 240 km/h, Average of vehicle - 5 km/l\n"
     ]
    }
   ],
   "source": [
    "# ANS :\n",
    "\n",
    "class Vehicle:\n",
    "    def __init__(self, name_of_vehicle, max_speed, average_of_vehicle):\n",
    "        self.name_of_vehicle = name_of_vehicle\n",
    "        self.max_speed = max_speed\n",
    "        self.average_of_vehicle = average_of_vehicle\n",
    "\n",
    "Maruti = Vehicle(name_of_vehicle=\"Maruti\", max_speed=200, average_of_vehicle=10)\n",
    "Honda = Vehicle(name_of_vehicle=\"Honda\", max_speed=240, average_of_vehicle=5)\n",
    "\n",
    "print(f\"{Maruti.name_of_vehicle}: Max Speed - {Maruti.max_speed} km/h, Average of vehicle - {Maruti.average_of_vehicle} km/l\")\n",
    "print(f\"{Honda.name_of_vehicle}: Max Speed - {Honda.max_speed} km/h, Average of vehicle - {Honda.average_of_vehicle} km/l\")\n"
   ]
  },
  {
   "cell_type": "raw",
   "id": "946b5b87-1d79-427a-8b6f-82f188cd0f6f",
   "metadata": {},
   "source": [
    "Q2. Create a child class car from the vehicle class created in Que 1, which will inherit the vehicle class.\n",
    "Create a method named seating_capacity."
   ]
  },
  {
   "cell_type": "code",
   "execution_count": 37,
   "id": "06420e22-371a-4538-a988-8a1200fb4846",
   "metadata": {},
   "outputs": [
    {
     "name": "stdout",
     "output_type": "stream",
     "text": [
      "Maruti: Max Speed - 200 km/h,  Average Fuel Efficiency - 10 km/l\n",
      "The Maruti has a seating capacity of 5 people.\n"
     ]
    }
   ],
   "source": [
    "# ANS : \n",
    "\n",
    "class Car(Vehicle):\n",
    "    def __init__(self, name_of_vehicle, max_speed, average_of_vehicle, num_seats):\n",
    "        \n",
    "        super().__init__(name_of_vehicle, max_speed, average_of_vehicle)\n",
    "        self.num_seats = num_seats\n",
    "\n",
    "    def seating_capacity(self):\n",
    "        return f\"The {self.name_of_vehicle} has a seating capacity of {self.num_seats} people.\"\n",
    "\n",
    "\n",
    "car_instance = Car(name_of_vehicle=\"Maruti\", max_speed=200,  average_of_vehicle=10, num_seats=5)\n",
    "\n",
    "\n",
    "print(f\"{car_instance.name_of_vehicle}: Max Speed - {car_instance.max_speed} km/h,  Average Fuel Efficiency - {car_instance.average_of_vehicle} km/l\")\n",
    "print(car_instance.seating_capacity())\n"
   ]
  },
  {
   "cell_type": "raw",
   "id": "70f468f6-9a6e-4f39-95d5-1dd1b1c1eabe",
   "metadata": {},
   "source": [
    "Q3. What is multiple inheritance? Write a python code to demonstrate multiple inheritance.\n"
   ]
  },
  {
   "cell_type": "code",
   "execution_count": 44,
   "id": "3ffb69e1-02b7-4ece-8393-401b261ba580",
   "metadata": {},
   "outputs": [
    {
     "name": "stdout",
     "output_type": "stream",
     "text": [
      "Wireman\n",
      "Student\n",
      "family_members\n",
      "Wardboy\n",
      "Electrician\n"
     ]
    }
   ],
   "source": [
    "# ANS : Multiple inheritance is a feature of some object-oriented computer programming languages. \n",
    "# It allows a class or object to inherit features from more than one parent class or object.\n",
    "\n",
    "class ravindra:\n",
    "    def akshay(self):\n",
    "        return \"Wireman\"\n",
    "\n",
    "    def roshan(self):\n",
    "        return \"Wardboy\"\n",
    "\n",
    "class rahul:\n",
    "    def viva(self):\n",
    "        return \"Student\"\n",
    "\n",
    "    def anup(self):\n",
    "        return \"Electrician\"\n",
    "\n",
    "class ingole(ravindra , rahul):\n",
    "    def carrier(self):\n",
    "        return \"family_members\"\n",
    "\n",
    "\n",
    "Family_own = ingole()\n",
    "\n",
    "\n",
    "print(Family_own.akshay())       \n",
    "print(Family_own.viva())       \n",
    "print(Family_own.carrier())       \n",
    "print(Family_own.roshan())         \n",
    "print(Family_own.anup())    \n",
    "\n",
    "\n",
    "\n"
   ]
  },
  {
   "cell_type": "raw",
   "id": "fb3abe1b-3aee-4465-a716-40421be6e22e",
   "metadata": {},
   "source": [
    "Q4. What are getter and setter in python? Create a class and create a getter and a setter method in this\n",
    "class."
   ]
  },
  {
   "cell_type": "code",
   "execution_count": 3,
   "id": "38765fc7-2b5f-42b1-a0b8-f2c24fd99f5c",
   "metadata": {},
   "outputs": [
    {
     "name": "stdout",
     "output_type": "stream",
     "text": [
      "42\n",
      "50\n"
     ]
    }
   ],
   "source": [
    "# ANS : A) getter :- it is used to retrieve the value of a private instance variable, it provides read-only access to the attribute,\n",
    "      # B) setter :- it is used to modify the value of a private instance variable,It provides a controlled way to update the attribute.\n",
    "\n",
    "class MyClass:\n",
    "    def __init__(self, attribute):\n",
    "        self._attribute = attribute  \n",
    "        \n",
    "\n",
    "    def get_attribute(self):\n",
    "        return self._attribute\n",
    "\n",
    "   \n",
    "    def set_attribute(self, value):\n",
    "        if value > 0:\n",
    "            self._attribute = value\n",
    "        else:\n",
    "            print(\"Invalid value. Attribute must be greater than 0.\")\n",
    "\n",
    "\n",
    "obj = MyClass(attribute=42)\n",
    "\n",
    "# Using the getter method\n",
    "print(obj.get_attribute())  \n",
    "# Using the setter method\n",
    "obj.set_attribute(value=50)\n",
    "print(obj.get_attribute()) \n",
    "\n"
   ]
  },
  {
   "cell_type": "raw",
   "id": "f901f183-a6cb-462a-a699-09efba77bf6f",
   "metadata": {},
   "source": [
    "Q5.What is method overriding in python? Write a python code to demonstrate method overriding."
   ]
  },
  {
   "cell_type": "code",
   "execution_count": 1,
   "id": "a6b462b6-626a-4a5a-875d-401e5806f2d7",
   "metadata": {},
   "outputs": [
    {
     "name": "stdout",
     "output_type": "stream",
     "text": [
      "Simba is eating.\n",
      "Simba is sleeping.\n",
      "Simba is roaring!\n",
      "George is eating.\n",
      "George is sleeping.\n",
      "George is climbing!\n"
     ]
    }
   ],
   "source": [
    "# ANS : when we writing method name with the same signature in parent and child class called method overrinding.\n",
    "\n",
    "class Animal:\n",
    "    def __init__(self, name, age):\n",
    "        self.name = name\n",
    "        self.age = age\n",
    "\n",
    "    def eat(self):\n",
    "        print(f\"{self.name} is eating.\")\n",
    "\n",
    "    def sleep(self):\n",
    "        print(f\"{self.name} is sleeping.\")\n",
    "\n",
    "class Lion(Animal):\n",
    "    def roar(self):\n",
    "        print(f\"{self.name} is roaring!\")\n",
    "\n",
    "class Monkey(Animal):\n",
    "    def climb(self):\n",
    "        print(f\"{self.name} is climbing!\")\n",
    "\n",
    "simba = Lion(\"Simba\", 5)\n",
    "simba.eat()\n",
    "simba.sleep()\n",
    "simba.roar()\n",
    "\n",
    "george = Monkey(\"George\", 3)\n",
    "george.eat()\n",
    "george.sleep()\n",
    "george.climb()\n"
   ]
  },
  {
   "cell_type": "code",
   "execution_count": null,
   "id": "88a9a053-5e3e-48ad-ae25-b1e55e3509e7",
   "metadata": {},
   "outputs": [],
   "source": []
  },
  {
   "cell_type": "code",
   "execution_count": null,
   "id": "26def0fd-cfcc-4963-910b-5e3f7ac0c13b",
   "metadata": {},
   "outputs": [],
   "source": []
  },
  {
   "cell_type": "code",
   "execution_count": null,
   "id": "2c02f6f3-7210-4571-a32e-66fdff4aab37",
   "metadata": {},
   "outputs": [],
   "source": []
  }
 ],
 "metadata": {
  "kernelspec": {
   "display_name": "Python 3 (ipykernel)",
   "language": "python",
   "name": "python3"
  },
  "language_info": {
   "codemirror_mode": {
    "name": "ipython",
    "version": 3
   },
   "file_extension": ".py",
   "mimetype": "text/x-python",
   "name": "python",
   "nbconvert_exporter": "python",
   "pygments_lexer": "ipython3",
   "version": "3.10.8"
  }
 },
 "nbformat": 4,
 "nbformat_minor": 5
}
